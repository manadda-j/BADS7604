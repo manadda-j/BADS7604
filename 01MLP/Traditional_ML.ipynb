{
  "nbformat": 4,
  "nbformat_minor": 0,
  "metadata": {
    "colab": {
      "name": "Traditional ML",
      "provenance": [],
      "collapsed_sections": []
    },
    "kernelspec": {
      "name": "python3",
      "display_name": "Python 3"
    },
    "language_info": {
      "name": "python"
    }
  },
  "cells": [
    {
      "cell_type": "markdown",
      "source": [
        "# Traditional ML: RandomForestClassifier"
      ],
      "metadata": {
        "id": "rZVho2RUkrzE"
      }
    },
    {
      "cell_type": "code",
      "source": [
        "import pandas as pd\n",
        "import numpy as np\n",
        "from sklearn import metrics\n",
        "from sklearn.preprocessing import StandardScaler\n",
        "from sklearn import tree\n",
        "from sklearn.ensemble import RandomForestClassifier\n",
        "from sklearn.utils import resample\n",
        "from sklearn.model_selection import train_test_split\n",
        "\n",
        "from sklearn.metrics import confusion_matrix\n",
        "from sklearn.metrics import classification_report\n",
        "from sklearn.metrics import accuracy_score, f1_score, precision_score, recall_score\n",
        "\n",
        "import matplotlib.pyplot as plt\n",
        "import seaborn as sns\n",
        "\n",
        "from sklearn.model_selection import cross_val_score\n",
        "from sklearn.pipeline import make_pipeline\n",
        "from sklearn.svm import SVC\n",
        "from sklearn.model_selection import StratifiedKFold\n",
        "\n",
        "from sklearn.metrics import confusion_matrix\n",
        "from sklearn.metrics import ConfusionMatrixDisplay\n",
        "\n",
        "random_state = 77"
      ],
      "metadata": {
        "id": "aRdCgxlinWbv"
      },
      "execution_count": 65,
      "outputs": []
    },
    {
      "cell_type": "code",
      "source": [
        "!git clone https://github.com/ManaddaJ/BADS7604.git"
      ],
      "metadata": {
        "colab": {
          "base_uri": "https://localhost:8080/"
        },
        "id": "gOeKc3XRcoki",
        "outputId": "c4ea28c1-3612-41fb-d1f8-aa6bba01d62f"
      },
      "execution_count": 2,
      "outputs": [
        {
          "output_type": "stream",
          "name": "stdout",
          "text": [
            "Cloning into 'BADS7604'...\n",
            "remote: Enumerating objects: 20, done.\u001b[K\n",
            "remote: Counting objects: 100% (20/20), done.\u001b[K\n",
            "remote: Compressing objects: 100% (17/17), done.\u001b[K\n",
            "remote: Total 20 (delta 2), reused 0 (delta 0), pack-reused 0\u001b[K\n",
            "Unpacking objects: 100% (20/20), done.\n"
          ]
        }
      ]
    },
    {
      "cell_type": "code",
      "source": [
        "!pwd"
      ],
      "metadata": {
        "colab": {
          "base_uri": "https://localhost:8080/"
        },
        "id": "5d4eg2iWiQxK",
        "outputId": "111d33d7-634d-4043-9557-58fe9272a335"
      },
      "execution_count": 3,
      "outputs": [
        {
          "output_type": "stream",
          "name": "stdout",
          "text": [
            "/content\n"
          ]
        }
      ]
    },
    {
      "cell_type": "code",
      "source": [
        "!ls"
      ],
      "metadata": {
        "id": "vKnSqheLGBKQ",
        "outputId": "1513ad2b-e508-4348-e381-559c4137deef",
        "colab": {
          "base_uri": "https://localhost:8080/"
        }
      },
      "execution_count": 4,
      "outputs": [
        {
          "output_type": "stream",
          "name": "stdout",
          "text": [
            "BADS7604  drive  sample_data\n"
          ]
        }
      ]
    },
    {
      "cell_type": "code",
      "source": [
        "import pandas as pd\n",
        "cust_df = pd.read_csv('/content/BADS7604/MLP/churn_localcontractor.csv')"
      ],
      "metadata": {
        "id": "CDauBd1_g41G"
      },
      "execution_count": 43,
      "outputs": []
    },
    {
      "cell_type": "code",
      "source": [
        "cust_df"
      ],
      "metadata": {
        "colab": {
          "base_uri": "https://localhost:8080/",
          "height": 488
        },
        "id": "JXOApvKzhSJ4",
        "outputId": "818380c3-351f-4354-d89a-6c5bacebdcba"
      },
      "execution_count": 6,
      "outputs": [
        {
          "output_type": "execute_result",
          "data": {
            "text/html": [
              "\n",
              "  <div id=\"df-e726e415-2e81-4697-ad92-36f70cfc11c1\">\n",
              "    <div class=\"colab-df-container\">\n",
              "      <div>\n",
              "<style scoped>\n",
              "    .dataframe tbody tr th:only-of-type {\n",
              "        vertical-align: middle;\n",
              "    }\n",
              "\n",
              "    .dataframe tbody tr th {\n",
              "        vertical-align: top;\n",
              "    }\n",
              "\n",
              "    .dataframe thead th {\n",
              "        text-align: right;\n",
              "    }\n",
              "</style>\n",
              "<table border=\"1\" class=\"dataframe\">\n",
              "  <thead>\n",
              "    <tr style=\"text-align: right;\">\n",
              "      <th></th>\n",
              "      <th>id_360</th>\n",
              "      <th>first_to_last_three_yrs</th>\n",
              "      <th>recency_three_yrs</th>\n",
              "      <th>total_amt_three_yrs</th>\n",
              "      <th>no_order_three_yrs</th>\n",
              "      <th>active_mth</th>\n",
              "      <th>first_to_last_one_mth</th>\n",
              "      <th>active_day</th>\n",
              "      <th>total_amt_one_mth</th>\n",
              "      <th>no_order_one_mth</th>\n",
              "      <th>active_one_mth</th>\n",
              "      <th>first_to_last_three_mths</th>\n",
              "      <th>total_amt_three_mths</th>\n",
              "      <th>no_order_three_mths</th>\n",
              "      <th>active_three_mths</th>\n",
              "      <th>first_to_last_six_mths</th>\n",
              "      <th>total_amt_six_mths</th>\n",
              "      <th>no_order_six_mths</th>\n",
              "      <th>active_six_mths</th>\n",
              "      <th>first_to_last_twelve_mths</th>\n",
              "      <th>total_amt_twelve_mths</th>\n",
              "      <th>no_order_twelve_mths</th>\n",
              "      <th>active_twelve_mths</th>\n",
              "      <th>avg_revisit_duration_one_mth</th>\n",
              "      <th>std_revisit_duration_one_mth</th>\n",
              "      <th>avg_revisit_duration_three_yrs</th>\n",
              "      <th>std_revisit_duration_three_yrs</th>\n",
              "      <th>avg_revisit_duration_three_mths</th>\n",
              "      <th>std_revisit_duration_three_mths</th>\n",
              "      <th>avg_revisit_duration_six_mths</th>\n",
              "      <th>std_revisit_duration_six_mths</th>\n",
              "      <th>avg_revisit_duration_twelve_mths</th>\n",
              "      <th>std_revisit_duration_twelve_mths</th>\n",
              "      <th>is_churn</th>\n",
              "    </tr>\n",
              "  </thead>\n",
              "  <tbody>\n",
              "    <tr>\n",
              "      <th>0</th>\n",
              "      <td>516016</td>\n",
              "      <td>472</td>\n",
              "      <td>207</td>\n",
              "      <td>375436.05</td>\n",
              "      <td>36</td>\n",
              "      <td>11</td>\n",
              "      <td>0</td>\n",
              "      <td>0</td>\n",
              "      <td>0.0</td>\n",
              "      <td>0</td>\n",
              "      <td>0</td>\n",
              "      <td>0</td>\n",
              "      <td>0.00</td>\n",
              "      <td>0</td>\n",
              "      <td>0</td>\n",
              "      <td>15</td>\n",
              "      <td>67405.91</td>\n",
              "      <td>8</td>\n",
              "      <td>2</td>\n",
              "      <td>212</td>\n",
              "      <td>184942.91</td>\n",
              "      <td>19</td>\n",
              "      <td>6</td>\n",
              "      <td>0.000000</td>\n",
              "      <td>0.000000</td>\n",
              "      <td>31.466667</td>\n",
              "      <td>32.323955</td>\n",
              "      <td>0.00000</td>\n",
              "      <td>0.000000</td>\n",
              "      <td>15.000000</td>\n",
              "      <td>0.000000</td>\n",
              "      <td>30.285714</td>\n",
              "      <td>25.322679</td>\n",
              "      <td>1</td>\n",
              "    </tr>\n",
              "    <tr>\n",
              "      <th>1</th>\n",
              "      <td>701820</td>\n",
              "      <td>1</td>\n",
              "      <td>1042</td>\n",
              "      <td>7435.00</td>\n",
              "      <td>2</td>\n",
              "      <td>1</td>\n",
              "      <td>0</td>\n",
              "      <td>0</td>\n",
              "      <td>0.0</td>\n",
              "      <td>0</td>\n",
              "      <td>0</td>\n",
              "      <td>0</td>\n",
              "      <td>0.00</td>\n",
              "      <td>0</td>\n",
              "      <td>0</td>\n",
              "      <td>0</td>\n",
              "      <td>0.00</td>\n",
              "      <td>0</td>\n",
              "      <td>0</td>\n",
              "      <td>0</td>\n",
              "      <td>0.00</td>\n",
              "      <td>0</td>\n",
              "      <td>0</td>\n",
              "      <td>0.000000</td>\n",
              "      <td>0.000000</td>\n",
              "      <td>1.000000</td>\n",
              "      <td>0.000000</td>\n",
              "      <td>0.00000</td>\n",
              "      <td>0.000000</td>\n",
              "      <td>0.000000</td>\n",
              "      <td>0.000000</td>\n",
              "      <td>0.000000</td>\n",
              "      <td>0.000000</td>\n",
              "      <td>1</td>\n",
              "    </tr>\n",
              "    <tr>\n",
              "      <th>2</th>\n",
              "      <td>514791</td>\n",
              "      <td>555</td>\n",
              "      <td>586</td>\n",
              "      <td>46222.43</td>\n",
              "      <td>7</td>\n",
              "      <td>4</td>\n",
              "      <td>0</td>\n",
              "      <td>0</td>\n",
              "      <td>0.0</td>\n",
              "      <td>0</td>\n",
              "      <td>0</td>\n",
              "      <td>0</td>\n",
              "      <td>0.00</td>\n",
              "      <td>0</td>\n",
              "      <td>0</td>\n",
              "      <td>0</td>\n",
              "      <td>0.00</td>\n",
              "      <td>0</td>\n",
              "      <td>0</td>\n",
              "      <td>0</td>\n",
              "      <td>0.00</td>\n",
              "      <td>0</td>\n",
              "      <td>0</td>\n",
              "      <td>0.000000</td>\n",
              "      <td>0.000000</td>\n",
              "      <td>92.500000</td>\n",
              "      <td>169.302983</td>\n",
              "      <td>0.00000</td>\n",
              "      <td>0.000000</td>\n",
              "      <td>0.000000</td>\n",
              "      <td>0.000000</td>\n",
              "      <td>0.000000</td>\n",
              "      <td>0.000000</td>\n",
              "      <td>1</td>\n",
              "    </tr>\n",
              "    <tr>\n",
              "      <th>3</th>\n",
              "      <td>627785</td>\n",
              "      <td>701</td>\n",
              "      <td>328</td>\n",
              "      <td>582.00</td>\n",
              "      <td>4</td>\n",
              "      <td>3</td>\n",
              "      <td>0</td>\n",
              "      <td>0</td>\n",
              "      <td>0.0</td>\n",
              "      <td>0</td>\n",
              "      <td>0</td>\n",
              "      <td>0</td>\n",
              "      <td>0.00</td>\n",
              "      <td>0</td>\n",
              "      <td>0</td>\n",
              "      <td>0</td>\n",
              "      <td>0.00</td>\n",
              "      <td>0</td>\n",
              "      <td>0</td>\n",
              "      <td>0</td>\n",
              "      <td>73.00</td>\n",
              "      <td>1</td>\n",
              "      <td>1</td>\n",
              "      <td>0.000000</td>\n",
              "      <td>0.000000</td>\n",
              "      <td>233.666667</td>\n",
              "      <td>257.070678</td>\n",
              "      <td>0.00000</td>\n",
              "      <td>0.000000</td>\n",
              "      <td>0.000000</td>\n",
              "      <td>0.000000</td>\n",
              "      <td>0.000000</td>\n",
              "      <td>0.000000</td>\n",
              "      <td>1</td>\n",
              "    </tr>\n",
              "    <tr>\n",
              "      <th>4</th>\n",
              "      <td>644791</td>\n",
              "      <td>50</td>\n",
              "      <td>634</td>\n",
              "      <td>3149.52</td>\n",
              "      <td>2</td>\n",
              "      <td>2</td>\n",
              "      <td>0</td>\n",
              "      <td>0</td>\n",
              "      <td>0.0</td>\n",
              "      <td>0</td>\n",
              "      <td>0</td>\n",
              "      <td>0</td>\n",
              "      <td>0.00</td>\n",
              "      <td>0</td>\n",
              "      <td>0</td>\n",
              "      <td>0</td>\n",
              "      <td>0.00</td>\n",
              "      <td>0</td>\n",
              "      <td>0</td>\n",
              "      <td>0</td>\n",
              "      <td>0.00</td>\n",
              "      <td>0</td>\n",
              "      <td>0</td>\n",
              "      <td>0.000000</td>\n",
              "      <td>0.000000</td>\n",
              "      <td>50.000000</td>\n",
              "      <td>0.000000</td>\n",
              "      <td>0.00000</td>\n",
              "      <td>0.000000</td>\n",
              "      <td>0.000000</td>\n",
              "      <td>0.000000</td>\n",
              "      <td>0.000000</td>\n",
              "      <td>0.000000</td>\n",
              "      <td>1</td>\n",
              "    </tr>\n",
              "    <tr>\n",
              "      <th>...</th>\n",
              "      <td>...</td>\n",
              "      <td>...</td>\n",
              "      <td>...</td>\n",
              "      <td>...</td>\n",
              "      <td>...</td>\n",
              "      <td>...</td>\n",
              "      <td>...</td>\n",
              "      <td>...</td>\n",
              "      <td>...</td>\n",
              "      <td>...</td>\n",
              "      <td>...</td>\n",
              "      <td>...</td>\n",
              "      <td>...</td>\n",
              "      <td>...</td>\n",
              "      <td>...</td>\n",
              "      <td>...</td>\n",
              "      <td>...</td>\n",
              "      <td>...</td>\n",
              "      <td>...</td>\n",
              "      <td>...</td>\n",
              "      <td>...</td>\n",
              "      <td>...</td>\n",
              "      <td>...</td>\n",
              "      <td>...</td>\n",
              "      <td>...</td>\n",
              "      <td>...</td>\n",
              "      <td>...</td>\n",
              "      <td>...</td>\n",
              "      <td>...</td>\n",
              "      <td>...</td>\n",
              "      <td>...</td>\n",
              "      <td>...</td>\n",
              "      <td>...</td>\n",
              "      <td>...</td>\n",
              "    </tr>\n",
              "    <tr>\n",
              "      <th>45870</th>\n",
              "      <td>364096</td>\n",
              "      <td>636</td>\n",
              "      <td>95</td>\n",
              "      <td>1695668.43</td>\n",
              "      <td>111</td>\n",
              "      <td>19</td>\n",
              "      <td>0</td>\n",
              "      <td>0</td>\n",
              "      <td>0.0</td>\n",
              "      <td>0</td>\n",
              "      <td>0</td>\n",
              "      <td>55</td>\n",
              "      <td>291839.00</td>\n",
              "      <td>7</td>\n",
              "      <td>2</td>\n",
              "      <td>140</td>\n",
              "      <td>511602.10</td>\n",
              "      <td>20</td>\n",
              "      <td>5</td>\n",
              "      <td>303</td>\n",
              "      <td>901058.47</td>\n",
              "      <td>43</td>\n",
              "      <td>11</td>\n",
              "      <td>0.000000</td>\n",
              "      <td>0.000000</td>\n",
              "      <td>11.357143</td>\n",
              "      <td>12.193036</td>\n",
              "      <td>11.00000</td>\n",
              "      <td>6.324555</td>\n",
              "      <td>10.769231</td>\n",
              "      <td>9.959534</td>\n",
              "      <td>11.653846</td>\n",
              "      <td>8.917140</td>\n",
              "      <td>0</td>\n",
              "    </tr>\n",
              "    <tr>\n",
              "      <th>45871</th>\n",
              "      <td>704474</td>\n",
              "      <td>0</td>\n",
              "      <td>0</td>\n",
              "      <td>0.00</td>\n",
              "      <td>0</td>\n",
              "      <td>0</td>\n",
              "      <td>0</td>\n",
              "      <td>0</td>\n",
              "      <td>0.0</td>\n",
              "      <td>0</td>\n",
              "      <td>0</td>\n",
              "      <td>0</td>\n",
              "      <td>0.00</td>\n",
              "      <td>0</td>\n",
              "      <td>0</td>\n",
              "      <td>0</td>\n",
              "      <td>0.00</td>\n",
              "      <td>0</td>\n",
              "      <td>0</td>\n",
              "      <td>0</td>\n",
              "      <td>0.00</td>\n",
              "      <td>0</td>\n",
              "      <td>0</td>\n",
              "      <td>0.000000</td>\n",
              "      <td>0.000000</td>\n",
              "      <td>0.000000</td>\n",
              "      <td>0.000000</td>\n",
              "      <td>0.00000</td>\n",
              "      <td>0.000000</td>\n",
              "      <td>0.000000</td>\n",
              "      <td>0.000000</td>\n",
              "      <td>0.000000</td>\n",
              "      <td>0.000000</td>\n",
              "      <td>0</td>\n",
              "    </tr>\n",
              "    <tr>\n",
              "      <th>45872</th>\n",
              "      <td>300983</td>\n",
              "      <td>422</td>\n",
              "      <td>534</td>\n",
              "      <td>1553755.89</td>\n",
              "      <td>231</td>\n",
              "      <td>15</td>\n",
              "      <td>0</td>\n",
              "      <td>0</td>\n",
              "      <td>0.0</td>\n",
              "      <td>0</td>\n",
              "      <td>0</td>\n",
              "      <td>0</td>\n",
              "      <td>0.00</td>\n",
              "      <td>0</td>\n",
              "      <td>0</td>\n",
              "      <td>0</td>\n",
              "      <td>0.00</td>\n",
              "      <td>0</td>\n",
              "      <td>0</td>\n",
              "      <td>0</td>\n",
              "      <td>0.00</td>\n",
              "      <td>0</td>\n",
              "      <td>0</td>\n",
              "      <td>0.000000</td>\n",
              "      <td>0.000000</td>\n",
              "      <td>3.403226</td>\n",
              "      <td>4.252057</td>\n",
              "      <td>0.00000</td>\n",
              "      <td>0.000000</td>\n",
              "      <td>0.000000</td>\n",
              "      <td>0.000000</td>\n",
              "      <td>0.000000</td>\n",
              "      <td>0.000000</td>\n",
              "      <td>1</td>\n",
              "    </tr>\n",
              "    <tr>\n",
              "      <th>45873</th>\n",
              "      <td>31331</td>\n",
              "      <td>536</td>\n",
              "      <td>61</td>\n",
              "      <td>1946934.84</td>\n",
              "      <td>270</td>\n",
              "      <td>19</td>\n",
              "      <td>30</td>\n",
              "      <td>10</td>\n",
              "      <td>30448.0</td>\n",
              "      <td>15</td>\n",
              "      <td>2</td>\n",
              "      <td>91</td>\n",
              "      <td>88232.48</td>\n",
              "      <td>44</td>\n",
              "      <td>4</td>\n",
              "      <td>181</td>\n",
              "      <td>204059.11</td>\n",
              "      <td>116</td>\n",
              "      <td>7</td>\n",
              "      <td>364</td>\n",
              "      <td>1099520.74</td>\n",
              "      <td>210</td>\n",
              "      <td>13</td>\n",
              "      <td>3.333333</td>\n",
              "      <td>4.924429</td>\n",
              "      <td>3.248485</td>\n",
              "      <td>3.806935</td>\n",
              "      <td>3.37037</td>\n",
              "      <td>3.991801</td>\n",
              "      <td>2.661765</td>\n",
              "      <td>2.904501</td>\n",
              "      <td>2.843750</td>\n",
              "      <td>2.759201</td>\n",
              "      <td>0</td>\n",
              "    </tr>\n",
              "    <tr>\n",
              "      <th>45874</th>\n",
              "      <td>230513</td>\n",
              "      <td>212</td>\n",
              "      <td>943</td>\n",
              "      <td>0.00</td>\n",
              "      <td>88</td>\n",
              "      <td>6</td>\n",
              "      <td>0</td>\n",
              "      <td>0</td>\n",
              "      <td>0.0</td>\n",
              "      <td>0</td>\n",
              "      <td>0</td>\n",
              "      <td>0</td>\n",
              "      <td>0.00</td>\n",
              "      <td>0</td>\n",
              "      <td>0</td>\n",
              "      <td>0</td>\n",
              "      <td>0.00</td>\n",
              "      <td>0</td>\n",
              "      <td>0</td>\n",
              "      <td>0</td>\n",
              "      <td>0.00</td>\n",
              "      <td>0</td>\n",
              "      <td>0</td>\n",
              "      <td>0.000000</td>\n",
              "      <td>0.000000</td>\n",
              "      <td>5.729730</td>\n",
              "      <td>13.073826</td>\n",
              "      <td>0.00000</td>\n",
              "      <td>0.000000</td>\n",
              "      <td>0.000000</td>\n",
              "      <td>0.000000</td>\n",
              "      <td>0.000000</td>\n",
              "      <td>0.000000</td>\n",
              "      <td>1</td>\n",
              "    </tr>\n",
              "  </tbody>\n",
              "</table>\n",
              "<p>45875 rows × 34 columns</p>\n",
              "</div>\n",
              "      <button class=\"colab-df-convert\" onclick=\"convertToInteractive('df-e726e415-2e81-4697-ad92-36f70cfc11c1')\"\n",
              "              title=\"Convert this dataframe to an interactive table.\"\n",
              "              style=\"display:none;\">\n",
              "        \n",
              "  <svg xmlns=\"http://www.w3.org/2000/svg\" height=\"24px\"viewBox=\"0 0 24 24\"\n",
              "       width=\"24px\">\n",
              "    <path d=\"M0 0h24v24H0V0z\" fill=\"none\"/>\n",
              "    <path d=\"M18.56 5.44l.94 2.06.94-2.06 2.06-.94-2.06-.94-.94-2.06-.94 2.06-2.06.94zm-11 1L8.5 8.5l.94-2.06 2.06-.94-2.06-.94L8.5 2.5l-.94 2.06-2.06.94zm10 10l.94 2.06.94-2.06 2.06-.94-2.06-.94-.94-2.06-.94 2.06-2.06.94z\"/><path d=\"M17.41 7.96l-1.37-1.37c-.4-.4-.92-.59-1.43-.59-.52 0-1.04.2-1.43.59L10.3 9.45l-7.72 7.72c-.78.78-.78 2.05 0 2.83L4 21.41c.39.39.9.59 1.41.59.51 0 1.02-.2 1.41-.59l7.78-7.78 2.81-2.81c.8-.78.8-2.07 0-2.86zM5.41 20L4 18.59l7.72-7.72 1.47 1.35L5.41 20z\"/>\n",
              "  </svg>\n",
              "      </button>\n",
              "      \n",
              "  <style>\n",
              "    .colab-df-container {\n",
              "      display:flex;\n",
              "      flex-wrap:wrap;\n",
              "      gap: 12px;\n",
              "    }\n",
              "\n",
              "    .colab-df-convert {\n",
              "      background-color: #E8F0FE;\n",
              "      border: none;\n",
              "      border-radius: 50%;\n",
              "      cursor: pointer;\n",
              "      display: none;\n",
              "      fill: #1967D2;\n",
              "      height: 32px;\n",
              "      padding: 0 0 0 0;\n",
              "      width: 32px;\n",
              "    }\n",
              "\n",
              "    .colab-df-convert:hover {\n",
              "      background-color: #E2EBFA;\n",
              "      box-shadow: 0px 1px 2px rgba(60, 64, 67, 0.3), 0px 1px 3px 1px rgba(60, 64, 67, 0.15);\n",
              "      fill: #174EA6;\n",
              "    }\n",
              "\n",
              "    [theme=dark] .colab-df-convert {\n",
              "      background-color: #3B4455;\n",
              "      fill: #D2E3FC;\n",
              "    }\n",
              "\n",
              "    [theme=dark] .colab-df-convert:hover {\n",
              "      background-color: #434B5C;\n",
              "      box-shadow: 0px 1px 3px 1px rgba(0, 0, 0, 0.15);\n",
              "      filter: drop-shadow(0px 1px 2px rgba(0, 0, 0, 0.3));\n",
              "      fill: #FFFFFF;\n",
              "    }\n",
              "  </style>\n",
              "\n",
              "      <script>\n",
              "        const buttonEl =\n",
              "          document.querySelector('#df-e726e415-2e81-4697-ad92-36f70cfc11c1 button.colab-df-convert');\n",
              "        buttonEl.style.display =\n",
              "          google.colab.kernel.accessAllowed ? 'block' : 'none';\n",
              "\n",
              "        async function convertToInteractive(key) {\n",
              "          const element = document.querySelector('#df-e726e415-2e81-4697-ad92-36f70cfc11c1');\n",
              "          const dataTable =\n",
              "            await google.colab.kernel.invokeFunction('convertToInteractive',\n",
              "                                                     [key], {});\n",
              "          if (!dataTable) return;\n",
              "\n",
              "          const docLinkHtml = 'Like what you see? Visit the ' +\n",
              "            '<a target=\"_blank\" href=https://colab.research.google.com/notebooks/data_table.ipynb>data table notebook</a>'\n",
              "            + ' to learn more about interactive tables.';\n",
              "          element.innerHTML = '';\n",
              "          dataTable['output_type'] = 'display_data';\n",
              "          await google.colab.output.renderOutput(dataTable, element);\n",
              "          const docLink = document.createElement('div');\n",
              "          docLink.innerHTML = docLinkHtml;\n",
              "          element.appendChild(docLink);\n",
              "        }\n",
              "      </script>\n",
              "    </div>\n",
              "  </div>\n",
              "  "
            ],
            "text/plain": [
              "       id_360  ...  is_churn\n",
              "0      516016  ...         1\n",
              "1      701820  ...         1\n",
              "2      514791  ...         1\n",
              "3      627785  ...         1\n",
              "4      644791  ...         1\n",
              "...       ...  ...       ...\n",
              "45870  364096  ...         0\n",
              "45871  704474  ...         0\n",
              "45872  300983  ...         1\n",
              "45873   31331  ...         0\n",
              "45874  230513  ...         1\n",
              "\n",
              "[45875 rows x 34 columns]"
            ]
          },
          "metadata": {},
          "execution_count": 6
        }
      ]
    },
    {
      "cell_type": "code",
      "source": [
        "churn_df = cust_df.copy()\n",
        "churn_df = churn_df.fillna(0)\n",
        "churn_df.head()"
      ],
      "metadata": {
        "id": "RuMR7MhLjXIo",
        "colab": {
          "base_uri": "https://localhost:8080/",
          "height": 270
        },
        "outputId": "74bf0449-f395-4530-ce7f-f9b39705fd1a"
      },
      "execution_count": 48,
      "outputs": [
        {
          "output_type": "execute_result",
          "data": {
            "text/html": [
              "\n",
              "  <div id=\"df-f61931fa-d125-4d01-8d01-52be83f06074\">\n",
              "    <div class=\"colab-df-container\">\n",
              "      <div>\n",
              "<style scoped>\n",
              "    .dataframe tbody tr th:only-of-type {\n",
              "        vertical-align: middle;\n",
              "    }\n",
              "\n",
              "    .dataframe tbody tr th {\n",
              "        vertical-align: top;\n",
              "    }\n",
              "\n",
              "    .dataframe thead th {\n",
              "        text-align: right;\n",
              "    }\n",
              "</style>\n",
              "<table border=\"1\" class=\"dataframe\">\n",
              "  <thead>\n",
              "    <tr style=\"text-align: right;\">\n",
              "      <th></th>\n",
              "      <th>id_360</th>\n",
              "      <th>first_to_last_three_yrs</th>\n",
              "      <th>recency_three_yrs</th>\n",
              "      <th>total_amt_three_yrs</th>\n",
              "      <th>no_order_three_yrs</th>\n",
              "      <th>active_mth</th>\n",
              "      <th>first_to_last_one_mth</th>\n",
              "      <th>active_day</th>\n",
              "      <th>total_amt_one_mth</th>\n",
              "      <th>no_order_one_mth</th>\n",
              "      <th>active_one_mth</th>\n",
              "      <th>first_to_last_three_mths</th>\n",
              "      <th>total_amt_three_mths</th>\n",
              "      <th>no_order_three_mths</th>\n",
              "      <th>active_three_mths</th>\n",
              "      <th>first_to_last_six_mths</th>\n",
              "      <th>total_amt_six_mths</th>\n",
              "      <th>no_order_six_mths</th>\n",
              "      <th>active_six_mths</th>\n",
              "      <th>first_to_last_twelve_mths</th>\n",
              "      <th>total_amt_twelve_mths</th>\n",
              "      <th>no_order_twelve_mths</th>\n",
              "      <th>active_twelve_mths</th>\n",
              "      <th>avg_revisit_duration_one_mth</th>\n",
              "      <th>std_revisit_duration_one_mth</th>\n",
              "      <th>avg_revisit_duration_three_yrs</th>\n",
              "      <th>std_revisit_duration_three_yrs</th>\n",
              "      <th>avg_revisit_duration_three_mths</th>\n",
              "      <th>std_revisit_duration_three_mths</th>\n",
              "      <th>avg_revisit_duration_six_mths</th>\n",
              "      <th>std_revisit_duration_six_mths</th>\n",
              "      <th>avg_revisit_duration_twelve_mths</th>\n",
              "      <th>std_revisit_duration_twelve_mths</th>\n",
              "      <th>is_churn</th>\n",
              "    </tr>\n",
              "  </thead>\n",
              "  <tbody>\n",
              "    <tr>\n",
              "      <th>0</th>\n",
              "      <td>516016</td>\n",
              "      <td>472</td>\n",
              "      <td>207</td>\n",
              "      <td>375436.05</td>\n",
              "      <td>36</td>\n",
              "      <td>11</td>\n",
              "      <td>0</td>\n",
              "      <td>0</td>\n",
              "      <td>0.0</td>\n",
              "      <td>0</td>\n",
              "      <td>0</td>\n",
              "      <td>0</td>\n",
              "      <td>0.0</td>\n",
              "      <td>0</td>\n",
              "      <td>0</td>\n",
              "      <td>15</td>\n",
              "      <td>67405.91</td>\n",
              "      <td>8</td>\n",
              "      <td>2</td>\n",
              "      <td>212</td>\n",
              "      <td>184942.91</td>\n",
              "      <td>19</td>\n",
              "      <td>6</td>\n",
              "      <td>0.0</td>\n",
              "      <td>0.0</td>\n",
              "      <td>31.466667</td>\n",
              "      <td>32.323955</td>\n",
              "      <td>0.0</td>\n",
              "      <td>0.0</td>\n",
              "      <td>15.0</td>\n",
              "      <td>0.0</td>\n",
              "      <td>30.285714</td>\n",
              "      <td>25.322679</td>\n",
              "      <td>1</td>\n",
              "    </tr>\n",
              "    <tr>\n",
              "      <th>1</th>\n",
              "      <td>701820</td>\n",
              "      <td>1</td>\n",
              "      <td>1042</td>\n",
              "      <td>7435.00</td>\n",
              "      <td>2</td>\n",
              "      <td>1</td>\n",
              "      <td>0</td>\n",
              "      <td>0</td>\n",
              "      <td>0.0</td>\n",
              "      <td>0</td>\n",
              "      <td>0</td>\n",
              "      <td>0</td>\n",
              "      <td>0.0</td>\n",
              "      <td>0</td>\n",
              "      <td>0</td>\n",
              "      <td>0</td>\n",
              "      <td>0.00</td>\n",
              "      <td>0</td>\n",
              "      <td>0</td>\n",
              "      <td>0</td>\n",
              "      <td>0.00</td>\n",
              "      <td>0</td>\n",
              "      <td>0</td>\n",
              "      <td>0.0</td>\n",
              "      <td>0.0</td>\n",
              "      <td>1.000000</td>\n",
              "      <td>0.000000</td>\n",
              "      <td>0.0</td>\n",
              "      <td>0.0</td>\n",
              "      <td>0.0</td>\n",
              "      <td>0.0</td>\n",
              "      <td>0.000000</td>\n",
              "      <td>0.000000</td>\n",
              "      <td>1</td>\n",
              "    </tr>\n",
              "    <tr>\n",
              "      <th>2</th>\n",
              "      <td>514791</td>\n",
              "      <td>555</td>\n",
              "      <td>586</td>\n",
              "      <td>46222.43</td>\n",
              "      <td>7</td>\n",
              "      <td>4</td>\n",
              "      <td>0</td>\n",
              "      <td>0</td>\n",
              "      <td>0.0</td>\n",
              "      <td>0</td>\n",
              "      <td>0</td>\n",
              "      <td>0</td>\n",
              "      <td>0.0</td>\n",
              "      <td>0</td>\n",
              "      <td>0</td>\n",
              "      <td>0</td>\n",
              "      <td>0.00</td>\n",
              "      <td>0</td>\n",
              "      <td>0</td>\n",
              "      <td>0</td>\n",
              "      <td>0.00</td>\n",
              "      <td>0</td>\n",
              "      <td>0</td>\n",
              "      <td>0.0</td>\n",
              "      <td>0.0</td>\n",
              "      <td>92.500000</td>\n",
              "      <td>169.302983</td>\n",
              "      <td>0.0</td>\n",
              "      <td>0.0</td>\n",
              "      <td>0.0</td>\n",
              "      <td>0.0</td>\n",
              "      <td>0.000000</td>\n",
              "      <td>0.000000</td>\n",
              "      <td>1</td>\n",
              "    </tr>\n",
              "    <tr>\n",
              "      <th>3</th>\n",
              "      <td>627785</td>\n",
              "      <td>701</td>\n",
              "      <td>328</td>\n",
              "      <td>582.00</td>\n",
              "      <td>4</td>\n",
              "      <td>3</td>\n",
              "      <td>0</td>\n",
              "      <td>0</td>\n",
              "      <td>0.0</td>\n",
              "      <td>0</td>\n",
              "      <td>0</td>\n",
              "      <td>0</td>\n",
              "      <td>0.0</td>\n",
              "      <td>0</td>\n",
              "      <td>0</td>\n",
              "      <td>0</td>\n",
              "      <td>0.00</td>\n",
              "      <td>0</td>\n",
              "      <td>0</td>\n",
              "      <td>0</td>\n",
              "      <td>73.00</td>\n",
              "      <td>1</td>\n",
              "      <td>1</td>\n",
              "      <td>0.0</td>\n",
              "      <td>0.0</td>\n",
              "      <td>233.666667</td>\n",
              "      <td>257.070678</td>\n",
              "      <td>0.0</td>\n",
              "      <td>0.0</td>\n",
              "      <td>0.0</td>\n",
              "      <td>0.0</td>\n",
              "      <td>0.000000</td>\n",
              "      <td>0.000000</td>\n",
              "      <td>1</td>\n",
              "    </tr>\n",
              "    <tr>\n",
              "      <th>4</th>\n",
              "      <td>644791</td>\n",
              "      <td>50</td>\n",
              "      <td>634</td>\n",
              "      <td>3149.52</td>\n",
              "      <td>2</td>\n",
              "      <td>2</td>\n",
              "      <td>0</td>\n",
              "      <td>0</td>\n",
              "      <td>0.0</td>\n",
              "      <td>0</td>\n",
              "      <td>0</td>\n",
              "      <td>0</td>\n",
              "      <td>0.0</td>\n",
              "      <td>0</td>\n",
              "      <td>0</td>\n",
              "      <td>0</td>\n",
              "      <td>0.00</td>\n",
              "      <td>0</td>\n",
              "      <td>0</td>\n",
              "      <td>0</td>\n",
              "      <td>0.00</td>\n",
              "      <td>0</td>\n",
              "      <td>0</td>\n",
              "      <td>0.0</td>\n",
              "      <td>0.0</td>\n",
              "      <td>50.000000</td>\n",
              "      <td>0.000000</td>\n",
              "      <td>0.0</td>\n",
              "      <td>0.0</td>\n",
              "      <td>0.0</td>\n",
              "      <td>0.0</td>\n",
              "      <td>0.000000</td>\n",
              "      <td>0.000000</td>\n",
              "      <td>1</td>\n",
              "    </tr>\n",
              "  </tbody>\n",
              "</table>\n",
              "</div>\n",
              "      <button class=\"colab-df-convert\" onclick=\"convertToInteractive('df-f61931fa-d125-4d01-8d01-52be83f06074')\"\n",
              "              title=\"Convert this dataframe to an interactive table.\"\n",
              "              style=\"display:none;\">\n",
              "        \n",
              "  <svg xmlns=\"http://www.w3.org/2000/svg\" height=\"24px\"viewBox=\"0 0 24 24\"\n",
              "       width=\"24px\">\n",
              "    <path d=\"M0 0h24v24H0V0z\" fill=\"none\"/>\n",
              "    <path d=\"M18.56 5.44l.94 2.06.94-2.06 2.06-.94-2.06-.94-.94-2.06-.94 2.06-2.06.94zm-11 1L8.5 8.5l.94-2.06 2.06-.94-2.06-.94L8.5 2.5l-.94 2.06-2.06.94zm10 10l.94 2.06.94-2.06 2.06-.94-2.06-.94-.94-2.06-.94 2.06-2.06.94z\"/><path d=\"M17.41 7.96l-1.37-1.37c-.4-.4-.92-.59-1.43-.59-.52 0-1.04.2-1.43.59L10.3 9.45l-7.72 7.72c-.78.78-.78 2.05 0 2.83L4 21.41c.39.39.9.59 1.41.59.51 0 1.02-.2 1.41-.59l7.78-7.78 2.81-2.81c.8-.78.8-2.07 0-2.86zM5.41 20L4 18.59l7.72-7.72 1.47 1.35L5.41 20z\"/>\n",
              "  </svg>\n",
              "      </button>\n",
              "      \n",
              "  <style>\n",
              "    .colab-df-container {\n",
              "      display:flex;\n",
              "      flex-wrap:wrap;\n",
              "      gap: 12px;\n",
              "    }\n",
              "\n",
              "    .colab-df-convert {\n",
              "      background-color: #E8F0FE;\n",
              "      border: none;\n",
              "      border-radius: 50%;\n",
              "      cursor: pointer;\n",
              "      display: none;\n",
              "      fill: #1967D2;\n",
              "      height: 32px;\n",
              "      padding: 0 0 0 0;\n",
              "      width: 32px;\n",
              "    }\n",
              "\n",
              "    .colab-df-convert:hover {\n",
              "      background-color: #E2EBFA;\n",
              "      box-shadow: 0px 1px 2px rgba(60, 64, 67, 0.3), 0px 1px 3px 1px rgba(60, 64, 67, 0.15);\n",
              "      fill: #174EA6;\n",
              "    }\n",
              "\n",
              "    [theme=dark] .colab-df-convert {\n",
              "      background-color: #3B4455;\n",
              "      fill: #D2E3FC;\n",
              "    }\n",
              "\n",
              "    [theme=dark] .colab-df-convert:hover {\n",
              "      background-color: #434B5C;\n",
              "      box-shadow: 0px 1px 3px 1px rgba(0, 0, 0, 0.15);\n",
              "      filter: drop-shadow(0px 1px 2px rgba(0, 0, 0, 0.3));\n",
              "      fill: #FFFFFF;\n",
              "    }\n",
              "  </style>\n",
              "\n",
              "      <script>\n",
              "        const buttonEl =\n",
              "          document.querySelector('#df-f61931fa-d125-4d01-8d01-52be83f06074 button.colab-df-convert');\n",
              "        buttonEl.style.display =\n",
              "          google.colab.kernel.accessAllowed ? 'block' : 'none';\n",
              "\n",
              "        async function convertToInteractive(key) {\n",
              "          const element = document.querySelector('#df-f61931fa-d125-4d01-8d01-52be83f06074');\n",
              "          const dataTable =\n",
              "            await google.colab.kernel.invokeFunction('convertToInteractive',\n",
              "                                                     [key], {});\n",
              "          if (!dataTable) return;\n",
              "\n",
              "          const docLinkHtml = 'Like what you see? Visit the ' +\n",
              "            '<a target=\"_blank\" href=https://colab.research.google.com/notebooks/data_table.ipynb>data table notebook</a>'\n",
              "            + ' to learn more about interactive tables.';\n",
              "          element.innerHTML = '';\n",
              "          dataTable['output_type'] = 'display_data';\n",
              "          await google.colab.output.renderOutput(dataTable, element);\n",
              "          const docLink = document.createElement('div');\n",
              "          docLink.innerHTML = docLinkHtml;\n",
              "          element.appendChild(docLink);\n",
              "        }\n",
              "      </script>\n",
              "    </div>\n",
              "  </div>\n",
              "  "
            ],
            "text/plain": [
              "   id_360  first_to_last_three_yrs  ...  std_revisit_duration_twelve_mths  is_churn\n",
              "0  516016                      472  ...                         25.322679         1\n",
              "1  701820                        1  ...                          0.000000         1\n",
              "2  514791                      555  ...                          0.000000         1\n",
              "3  627785                      701  ...                          0.000000         1\n",
              "4  644791                       50  ...                          0.000000         1\n",
              "\n",
              "[5 rows x 34 columns]"
            ]
          },
          "metadata": {},
          "execution_count": 48
        }
      ]
    },
    {
      "cell_type": "code",
      "source": [
        "churn_df.columns"
      ],
      "metadata": {
        "colab": {
          "base_uri": "https://localhost:8080/"
        },
        "id": "8eRfthTinoFn",
        "outputId": "81dd910e-e27a-43ef-f1c4-cbde5c1410bd"
      },
      "execution_count": 8,
      "outputs": [
        {
          "output_type": "execute_result",
          "data": {
            "text/plain": [
              "Index(['id_360', 'first_to_last_three_yrs', 'recency_three_yrs',\n",
              "       'total_amt_three_yrs', 'no_order_three_yrs', 'active_mth',\n",
              "       'first_to_last_one_mth', 'active_day', 'total_amt_one_mth',\n",
              "       'no_order_one_mth', 'active_one_mth', 'first_to_last_three_mths',\n",
              "       'total_amt_three_mths', 'no_order_three_mths', 'active_three_mths',\n",
              "       'first_to_last_six_mths', 'total_amt_six_mths', 'no_order_six_mths',\n",
              "       'active_six_mths', 'first_to_last_twelve_mths', 'total_amt_twelve_mths',\n",
              "       'no_order_twelve_mths', 'active_twelve_mths',\n",
              "       'avg_revisit_duration_one_mth', 'std_revisit_duration_one_mth',\n",
              "       'avg_revisit_duration_three_yrs', 'std_revisit_duration_three_yrs',\n",
              "       'avg_revisit_duration_three_mths', 'std_revisit_duration_three_mths',\n",
              "       'avg_revisit_duration_six_mths', 'std_revisit_duration_six_mths',\n",
              "       'avg_revisit_duration_twelve_mths', 'std_revisit_duration_twelve_mths',\n",
              "       'is_churn'],\n",
              "      dtype='object')"
            ]
          },
          "metadata": {},
          "execution_count": 8
        }
      ]
    },
    {
      "cell_type": "code",
      "source": [
        "print(churn_df.shape)\n",
        "print('class 0:', str(len(churn_df[churn_df['is_churn'] == 0])))\n",
        "print('class 1:', str(len(churn_df[churn_df['is_churn'] == 1])))\n",
        "sns.countplot(x='is_churn',data=churn_df)"
      ],
      "metadata": {
        "colab": {
          "base_uri": "https://localhost:8080/",
          "height": 349
        },
        "id": "YKxLV7ZlnrJ8",
        "outputId": "fb9035b4-e7ba-49f0-f197-d795e50d6da2"
      },
      "execution_count": 9,
      "outputs": [
        {
          "output_type": "stream",
          "name": "stdout",
          "text": [
            "(45875, 34)\n",
            "class 0: 29156\n",
            "class 1: 16719\n"
          ]
        },
        {
          "output_type": "execute_result",
          "data": {
            "text/plain": [
              "<matplotlib.axes._subplots.AxesSubplot at 0x7fe4c6875f50>"
            ]
          },
          "metadata": {},
          "execution_count": 9
        },
        {
          "output_type": "display_data",
          "data": {
            "image/png": "[encoded data removed]",
            "text/plain": [
              "<Figure size 432x288 with 1 Axes>"
            ]
          },
          "metadata": {
            "needs_background": "light"
          }
        }
      ]
    },
    {
      "cell_type": "code",
      "source": [
        "def under_sampling(train_set_df, target, random_state):\n",
        "    df_majority = train_set_df[train_set_df[target]==0]\n",
        "    df_minority = train_set_df[train_set_df[target]==1]\n",
        "\n",
        "    df_majority_downsampled = resample( df_majority, \n",
        "                                        n_samples = df_minority.shape[0], \n",
        "                                        replace=True, \n",
        "                                        random_state=random_state)\n",
        "\n",
        "    train_set_df_ds = pd.concat([df_majority_downsampled, df_minority])\n",
        "    return train_set_df_ds\n",
        "\n",
        "def over_sampling(train_set_df, target, random_state):\n",
        "    df_majority = train_set_df[train_set_df[target]==0]\n",
        "    df_minority = train_set_df[train_set_df[target]==1]\n",
        "\n",
        "    df_minority_oversampled = resample( df_minority, \n",
        "                                        n_samples = df_majority.shape[0], \n",
        "                                        replace=True, \n",
        "                                        random_state=random_state)\n",
        "\n",
        "    train_set_df_ds = pd.concat([df_minority_oversampled, df_majority])\n",
        "    return train_set_df_ds"
      ],
      "metadata": {
        "id": "YJo2K846nu-Z"
      },
      "execution_count": 10,
      "outputs": []
    },
    {
      "cell_type": "markdown",
      "source": [
        "## kFold to compare accuracy undersampling vs oversampling"
      ],
      "metadata": {
        "id": "LUzKpndSobMC"
      }
    },
    {
      "cell_type": "markdown",
      "source": [
        "### undersampling"
      ],
      "metadata": {
        "id": "Aje0QFISoj1R"
      }
    },
    {
      "cell_type": "code",
      "source": [
        "# train_df.iloc[:,1:-1]\n",
        "X, y = churn_df.iloc[:,1:-1], churn_df.iloc[:,-1]\n",
        "X_train, X_test, y_train, y_test = train_test_split(X, y, test_size=0.33, random_state = random_state)\n",
        "train_under = pd.concat([X_train, y_train], axis=1).reset_index(drop=True)"
      ],
      "metadata": {
        "id": "3Pcun8K1oUzx"
      },
      "execution_count": 11,
      "outputs": []
    },
    {
      "cell_type": "code",
      "source": [
        "train_under = under_sampling(train_under, \"is_churn\", random_state)\n",
        "print(train_under.shape)\n",
        "print('class 0:', str(len(train_under[train_under['is_churn'] == 0])))\n",
        "print('class 1:', str(len(train_under[train_under['is_churn'] == 1])))\n",
        "sns.countplot(x='is_churn',data=train_under)"
      ],
      "metadata": {
        "colab": {
          "base_uri": "https://localhost:8080/",
          "height": 349
        },
        "id": "R1RPO_cHogYj",
        "outputId": "5d2d40a2-159a-4041-9ddd-8b8a8f688f3b"
      },
      "execution_count": 12,
      "outputs": [
        {
          "output_type": "stream",
          "name": "stdout",
          "text": [
            "(22404, 33)\n",
            "class 0: 11202\n",
            "class 1: 11202\n"
          ]
        },
        {
          "output_type": "execute_result",
          "data": {
            "text/plain": [
              "<matplotlib.axes._subplots.AxesSubplot at 0x7fe4c5ff2a50>"
            ]
          },
          "metadata": {},
          "execution_count": 12
        },
        {
          "output_type": "display_data",
          "data": {
            "image/png": "[encoded data removed]",
            "text/plain": [
              "<Figure size 432x288 with 1 Axes>"
            ]
          },
          "metadata": {
            "needs_background": "light"
          }
        }
      ]
    },
    {
      "cell_type": "code",
      "source": [
        "X_train, y_train = train_under.iloc[:,1:-1], train_under.iloc[:,-1]\n",
        "# Create an instance of Pipeline\n",
        "pipeline = make_pipeline(StandardScaler(), RandomForestClassifier(n_estimators=100, max_depth=4))\n",
        "\n",
        "# Create an instance of StratifiedKFold which can be used to get indices of different training and test folds\n",
        "strtfdKFold = StratifiedKFold(n_splits=10)\n",
        "kfold = strtfdKFold.split(X_train, y_train)\n",
        "scores = []\n",
        "#\n",
        "for k, (train, test) in enumerate(kfold):\n",
        "    pipeline.fit(X_train.iloc[train, :], y_train.iloc[train])\n",
        "    score = pipeline.score(X_train.iloc[test, :], y_train.iloc[test])\n",
        "    scores.append(score)\n",
        "    print('Fold: %2d, Training/Test Split Distribution: %s, Accuracy: %.3f' % (k+1, np.bincount(y_train.iloc[train]), score))\n",
        " \n",
        "print('\\n\\nCross-Validation accuracy: %.3f +/- %.3f' %(np.mean(scores), np.std(scores)))"
      ],
      "metadata": {
        "colab": {
          "base_uri": "https://localhost:8080/"
        },
        "id": "CduB2c11onIn",
        "outputId": "20f023cd-7642-4dcc-de1e-cdd4b2b8a839"
      },
      "execution_count": 13,
      "outputs": [
        {
          "output_type": "stream",
          "name": "stdout",
          "text": [
            "Fold:  1, Training/Test Split Distribution: [10081 10082], Accuracy: 0.930\n",
            "Fold:  2, Training/Test Split Distribution: [10081 10082], Accuracy: 0.941\n",
            "Fold:  3, Training/Test Split Distribution: [10082 10081], Accuracy: 0.932\n",
            "Fold:  4, Training/Test Split Distribution: [10082 10081], Accuracy: 0.932\n",
            "Fold:  5, Training/Test Split Distribution: [10082 10082], Accuracy: 0.929\n",
            "Fold:  6, Training/Test Split Distribution: [10082 10082], Accuracy: 0.934\n",
            "Fold:  7, Training/Test Split Distribution: [10082 10082], Accuracy: 0.929\n",
            "Fold:  8, Training/Test Split Distribution: [10082 10082], Accuracy: 0.938\n",
            "Fold:  9, Training/Test Split Distribution: [10082 10082], Accuracy: 0.932\n",
            "Fold: 10, Training/Test Split Distribution: [10082 10082], Accuracy: 0.934\n",
            "\n",
            "\n",
            "Cross-Validation accuracy: 0.933 +/- 0.003\n"
          ]
        }
      ]
    },
    {
      "cell_type": "markdown",
      "source": [
        "### oversampling"
      ],
      "metadata": {
        "id": "Y6FYv_tno9vx"
      }
    },
    {
      "cell_type": "code",
      "source": [
        "X_churn, y_churn = churn_df.iloc[:,1:-1], churn_df.iloc[:,-1]\n",
        "X_train, X_test, y_train, y_test = train_test_split(X_churn, y_churn, test_size=0.33, random_state = random_state)\n",
        "train_over = pd.concat([X_train, y_train], axis=1).reset_index(drop=True)"
      ],
      "metadata": {
        "id": "AYpHyumBop3c"
      },
      "execution_count": 14,
      "outputs": []
    },
    {
      "cell_type": "code",
      "source": [
        "train_over = over_sampling(train_over, \"is_churn\", random_state)\n",
        "print(train_over.shape)\n",
        "print('class 0:', str(len(train_over[train_over['is_churn'] == 0])))\n",
        "print('class 1:', str(len(train_over[train_over['is_churn'] == 1])))\n",
        "sns.countplot(x='is_churn',data=train_over)"
      ],
      "metadata": {
        "colab": {
          "base_uri": "https://localhost:8080/",
          "height": 349
        },
        "id": "NK9eB5cno3Hx",
        "outputId": "7821ae73-1944-4bcb-a0ee-123a12f8039b"
      },
      "execution_count": 15,
      "outputs": [
        {
          "output_type": "stream",
          "name": "stdout",
          "text": [
            "(39068, 33)\n",
            "class 0: 19534\n",
            "class 1: 19534\n"
          ]
        },
        {
          "output_type": "execute_result",
          "data": {
            "text/plain": [
              "<matplotlib.axes._subplots.AxesSubplot at 0x7fe4c5f5c790>"
            ]
          },
          "metadata": {},
          "execution_count": 15
        },
        {
          "output_type": "display_data",
          "data": {
            "image/png": "[encoded data removed]",
            "text/plain": [
              "<Figure size 432x288 with 1 Axes>"
            ]
          },
          "metadata": {
            "needs_background": "light"
          }
        }
      ]
    },
    {
      "cell_type": "code",
      "source": [
        "X_train, y_train = train_over.iloc[:,1:-1], train_over.iloc[:,-1]\n",
        "# Create an instance of Pipeline\n",
        "pipeline = make_pipeline(StandardScaler(), RandomForestClassifier(n_estimators=100, max_depth=4))\n",
        "\n",
        "# Create an instance of StratifiedKFold which can be used to get indices of different training and test folds\n",
        "strtfdKFold = StratifiedKFold(n_splits=10)\n",
        "kfold = strtfdKFold.split(X_train, y_train)\n",
        "scores = []\n",
        "#\n",
        "for k, (train, test) in enumerate(kfold):\n",
        "    pipeline.fit(X_train.iloc[train, :], y_train.iloc[train])\n",
        "    score = pipeline.score(X_train.iloc[test, :], y_train.iloc[test])\n",
        "    scores.append(score)\n",
        "    print('Fold: %2d, Training/Test Split Distribution: %s, Accuracy: %.3f' % (k+1, np.bincount(y_train.iloc[train]), score))\n",
        " \n",
        "print('\\n\\nCross-Validation accuracy: %.3f +/- %.3f' %(np.mean(scores), np.std(scores)))"
      ],
      "metadata": {
        "colab": {
          "base_uri": "https://localhost:8080/"
        },
        "id": "3hDFg2wJpF5M",
        "outputId": "c280c2ae-be71-445c-dcbb-c1118a7468cf"
      },
      "execution_count": 16,
      "outputs": [
        {
          "output_type": "stream",
          "name": "stdout",
          "text": [
            "Fold:  1, Training/Test Split Distribution: [17581 17580], Accuracy: 0.930\n",
            "Fold:  2, Training/Test Split Distribution: [17581 17580], Accuracy: 0.934\n",
            "Fold:  3, Training/Test Split Distribution: [17581 17580], Accuracy: 0.932\n",
            "Fold:  4, Training/Test Split Distribution: [17581 17580], Accuracy: 0.927\n",
            "Fold:  5, Training/Test Split Distribution: [17580 17581], Accuracy: 0.929\n",
            "Fold:  6, Training/Test Split Distribution: [17580 17581], Accuracy: 0.928\n",
            "Fold:  7, Training/Test Split Distribution: [17580 17581], Accuracy: 0.927\n",
            "Fold:  8, Training/Test Split Distribution: [17580 17581], Accuracy: 0.938\n",
            "Fold:  9, Training/Test Split Distribution: [17581 17581], Accuracy: 0.935\n",
            "Fold: 10, Training/Test Split Distribution: [17581 17581], Accuracy: 0.937\n",
            "\n",
            "\n",
            "Cross-Validation accuracy: 0.932 +/- 0.004\n"
          ]
        }
      ]
    },
    {
      "cell_type": "markdown",
      "source": [
        "## choose undersampling with high accuracy and low variance"
      ],
      "metadata": {
        "id": "9Jyy0Kz6pTE5"
      }
    },
    {
      "cell_type": "code",
      "source": [
        "# X, y = churn_df.iloc[:,1:-1], churn_df.iloc[:,-1]\n",
        "train , test = train_test_split(churn_df , stratify=churn_df['is_churn'], test_size=0.33, random_state = random_state)\n",
        "print(train.shape , test.shape)\n",
        "\n",
        "under_df = under_sampling(train, \"is_churn\", random_state)\n",
        "print(under_df.shape)\n",
        "\n",
        "X_train , y_train  = under_df.iloc[:,1:-1], under_df.iloc[:,-1]\n",
        "X_test , y_test    = test.iloc[:,1:-1], test.iloc[:,-1]"
      ],
      "metadata": {
        "colab": {
          "base_uri": "https://localhost:8080/"
        },
        "id": "aQk_77fNE3lC",
        "outputId": "38bdbcc0-3a1e-455a-9ea9-67ccccaed3c0"
      },
      "execution_count": 53,
      "outputs": [
        {
          "output_type": "stream",
          "name": "stdout",
          "text": [
            "(30736, 34) (15139, 34)\n",
            "(22404, 34)\n"
          ]
        }
      ]
    },
    {
      "cell_type": "code",
      "source": [
        "rf = RandomForestClassifier(n_estimators=10, random_state=random_state)\n",
        "rf.fit(X_train, y_train)"
      ],
      "metadata": {
        "colab": {
          "base_uri": "https://localhost:8080/"
        },
        "id": "FdabCqgPpfPo",
        "outputId": "4a04d9bf-25e0-4ee3-b27e-d9d8def785c6"
      },
      "execution_count": 57,
      "outputs": [
        {
          "output_type": "execute_result",
          "data": {
            "text/plain": [
              "RandomForestClassifier(n_estimators=10, random_state=77)"
            ]
          },
          "metadata": {},
          "execution_count": 57
        }
      ]
    },
    {
      "cell_type": "code",
      "source": [
        "y_train_pred = rf.predict(X_train)\n",
        "print(classification_report(y_train, y_train_pred))"
      ],
      "metadata": {
        "colab": {
          "base_uri": "https://localhost:8080/"
        },
        "id": "nOwR317sphKU",
        "outputId": "c8e407d9-57e0-4517-f371-87c2d849e637"
      },
      "execution_count": 58,
      "outputs": [
        {
          "output_type": "stream",
          "name": "stdout",
          "text": [
            "              precision    recall  f1-score   support\n",
            "\n",
            "           0       0.98      1.00      0.99     11202\n",
            "           1       1.00      0.98      0.99     11202\n",
            "\n",
            "    accuracy                           0.99     22404\n",
            "   macro avg       0.99      0.99      0.99     22404\n",
            "weighted avg       0.99      0.99      0.99     22404\n",
            "\n"
          ]
        }
      ]
    },
    {
      "cell_type": "code",
      "source": [
        "y_pred = rf.predict(X_test)\n",
        "print(classification_report(y_test, y_pred))"
      ],
      "metadata": {
        "colab": {
          "base_uri": "https://localhost:8080/"
        },
        "id": "nzGyo0pipjy_",
        "outputId": "a1b137ab-6391-4047-b465-d03316750d00"
      },
      "execution_count": 59,
      "outputs": [
        {
          "output_type": "stream",
          "name": "stdout",
          "text": [
            "              precision    recall  f1-score   support\n",
            "\n",
            "           0       0.97      0.90      0.93      9622\n",
            "           1       0.85      0.95      0.90      5517\n",
            "\n",
            "    accuracy                           0.92     15139\n",
            "   macro avg       0.91      0.93      0.91     15139\n",
            "weighted avg       0.92      0.92      0.92     15139\n",
            "\n"
          ]
        }
      ]
    },
    {
      "cell_type": "code",
      "source": [
        "print(y_train.value_counts(), '\\n' , y_test.value_counts())"
      ],
      "metadata": {
        "colab": {
          "base_uri": "https://localhost:8080/"
        },
        "id": "-pvuq_miyC60",
        "outputId": "601e78d6-b3ff-49e2-84df-d89a50a6b056"
      },
      "execution_count": 60,
      "outputs": [
        {
          "output_type": "stream",
          "name": "stdout",
          "text": [
            "1    11202\n",
            "0    11202\n",
            "Name: is_churn, dtype: int64 \n",
            " 0    9622\n",
            "1    5517\n",
            "Name: is_churn, dtype: int64\n"
          ]
        }
      ]
    },
    {
      "cell_type": "markdown",
      "source": [
        "###Confusion Matrix"
      ],
      "metadata": {
        "id": "IuKA8UmCNG-w"
      }
    },
    {
      "cell_type": "code",
      "source": [
        "labels = ['Not Churn', 'Churn']\n",
        "cm  = confusion_matrix(y_test, y_pred)\n",
        "\n",
        "disp = ConfusionMatrixDisplay(confusion_matrix=cm, display_labels=labels)\n",
        "\n",
        "disp.plot(cmap=plt.cm.Blues)\n",
        "plt.savefig('confusion_matrix.png')\n",
        "plt.show()"
      ],
      "metadata": {
        "colab": {
          "base_uri": "https://localhost:8080/",
          "height": 279
        },
        "id": "4PeyM_5AMD1_",
        "outputId": "3d4a6b5c-3d91-4ad6-fef7-b478528c78b2"
      },
      "execution_count": 66,
      "outputs": [
        {
          "output_type": "display_data",
          "data": {
            "image/png": "[encoded data removed]",
            "text/plain": [
              "<Figure size 432x288 with 2 Axes>"
            ]
          },
          "metadata": {
            "needs_background": "light"
          }
        }
      ]
    },
    {
      "cell_type": "markdown",
      "source": [
        "### model result"
      ],
      "metadata": {
        "id": "a_AhcSnppucp"
      }
    },
    {
      "cell_type": "code",
      "source": [
        "all_X = churn_df.iloc[:,1:-1]\n",
        "all_y = churn_df.iloc[:,-1]"
      ],
      "metadata": {
        "id": "1s1F7jpxppwQ"
      },
      "execution_count": 61,
      "outputs": []
    },
    {
      "cell_type": "code",
      "source": [
        "all_y_pred = rf.predict(all_X)\n",
        "all_y_pred_prob = rf.predict_proba(all_X)\n",
        "\n",
        "churn_df_with_predict = churn_df.copy()\n",
        "churn_df_with_predict['churn_pred'] = all_y_pred\n",
        "churn_df_with_predict['churn_pred_prob'] = all_y_pred_prob[:,1]\n",
        "\n",
        "print(classification_report(all_y, all_y_pred))"
      ],
      "metadata": {
        "colab": {
          "base_uri": "https://localhost:8080/"
        },
        "id": "uxo_ce2vprdy",
        "outputId": "cdb4b3a0-d32c-429c-b011-63b2bae2959f"
      },
      "execution_count": 62,
      "outputs": [
        {
          "output_type": "stream",
          "name": "stdout",
          "text": [
            "              precision    recall  f1-score   support\n",
            "\n",
            "           0       0.98      0.93      0.95     29156\n",
            "           1       0.89      0.97      0.93     16719\n",
            "\n",
            "    accuracy                           0.94     45875\n",
            "   macro avg       0.93      0.95      0.94     45875\n",
            "weighted avg       0.95      0.94      0.94     45875\n",
            "\n"
          ]
        }
      ]
    },
    {
      "cell_type": "code",
      "source": [
        "print(all_y.value_counts(), '\\n' , churn_df_with_predict['churn_pred'].value_counts())"
      ],
      "metadata": {
        "colab": {
          "base_uri": "https://localhost:8080/"
        },
        "id": "MQo4f_320bW2",
        "outputId": "ccd996a3-6c8c-4f16-e0b5-24a36d90b8d2"
      },
      "execution_count": 63,
      "outputs": [
        {
          "output_type": "stream",
          "name": "stdout",
          "text": [
            "0    29156\n",
            "1    16719\n",
            "Name: is_churn, dtype: int64 \n",
            " 0    27552\n",
            "1    18323\n",
            "Name: churn_pred, dtype: int64\n"
          ]
        }
      ]
    },
    {
      "cell_type": "markdown",
      "source": [
        "### feature importance"
      ],
      "metadata": {
        "id": "wfJkM6NQp7k4"
      }
    },
    {
      "cell_type": "code",
      "source": [
        "sorted_idx = rf.feature_importances_.argsort()[-10:]\n",
        "plt.barh(X_train.columns[sorted_idx], rf.feature_importances_[sorted_idx])\n",
        "plt.xlabel(\"Random Forest Feature Importance\")"
      ],
      "metadata": {
        "colab": {
          "base_uri": "https://localhost:8080/",
          "height": 296
        },
        "id": "pVr1slBOpnG6",
        "outputId": "739299a5-eb45-4c85-e921-6b8c02eeffdd"
      },
      "execution_count": 64,
      "outputs": [
        {
          "output_type": "execute_result",
          "data": {
            "text/plain": [
              "Text(0.5, 0, 'Random Forest Feature Importance')"
            ]
          },
          "metadata": {},
          "execution_count": 64
        },
        {
          "output_type": "display_data",
          "data": {
            "image/png": "[encoded data removed]",
            "text/plain": [
              "<Figure size 432x288 with 1 Axes>"
            ]
          },
          "metadata": {
            "needs_background": "light"
          }
        }
      ]
    }
  ]
}